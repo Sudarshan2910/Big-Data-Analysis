{
  "nbformat": 4,
  "nbformat_minor": 0,
  "metadata": {
    "colab": {
      "provenance": [],
      "gpuType": "T4"
    },
    "kernelspec": {
      "name": "ir",
      "display_name": "R"
    },
    "language_info": {
      "name": "R"
    },
    "accelerator": "GPU"
  },
  "cells": [
    {
      "cell_type": "code",
      "execution_count": 1,
      "metadata": {
        "colab": {
          "base_uri": "https://localhost:8080/"
        },
        "id": "5zN5KTfe55co",
        "outputId": "2304dd21-36e3-4bf3-9591-c162a51329a3"
      },
      "outputs": [
        {
          "output_type": "stream",
          "name": "stderr",
          "text": [
            "Installing package into ‘/usr/local/lib/R/site-library’\n",
            "(as ‘lib’ is unspecified)\n",
            "\n",
            "also installing the dependencies ‘NLP’, ‘slam’, ‘BH’\n",
            "\n",
            "\n",
            "Installing package into ‘/usr/local/lib/R/site-library’\n",
            "(as ‘lib’ is unspecified)\n",
            "\n",
            "Installing package into ‘/usr/local/lib/R/site-library’\n",
            "(as ‘lib’ is unspecified)\n",
            "\n",
            "Installing package into ‘/usr/local/lib/R/site-library’\n",
            "(as ‘lib’ is unspecified)\n",
            "\n"
          ]
        }
      ],
      "source": [
        "install.packages(\"tm\")\n",
        "install.packages(\"SnowballC\")\n",
        "install.packages(\"wordcloud\")\n",
        "install.packages(\"ggplot2\")"
      ]
    },
    {
      "cell_type": "code",
      "source": [
        "library(tm)\n",
        "library(SnowballC)\n",
        "library(wordcloud)\n",
        "library(ggplot2)"
      ],
      "metadata": {
        "colab": {
          "base_uri": "https://localhost:8080/"
        },
        "id": "ZFx6zjmi6GNN",
        "outputId": "5fefd4dd-fc1d-4916-dd7f-0227ed9902ae"
      },
      "execution_count": 3,
      "outputs": [
        {
          "output_type": "stream",
          "name": "stderr",
          "text": [
            "Loading required package: NLP\n",
            "\n",
            "Loading required package: RColorBrewer\n",
            "\n",
            "\n",
            "Attaching package: ‘ggplot2’\n",
            "\n",
            "\n",
            "The following object is masked from ‘package:NLP’:\n",
            "\n",
            "    annotate\n",
            "\n",
            "\n"
          ]
        }
      ]
    },
    {
      "cell_type": "code",
      "source": [
        "doc<-c(\"Data Analysis is fun\",\"tomorrow is my practical and it will be fun\",\"exploring data is fun\",\"Imagine how incredible you will be\",\"if you start working on yourself\")"
      ],
      "metadata": {
        "id": "ejYnqTiK6f9W"
      },
      "execution_count": 16,
      "outputs": []
    },
    {
      "cell_type": "code",
      "source": [
        "corp<-Corpus(VectorSource(doc))"
      ],
      "metadata": {
        "id": "jfCXRy_96vKd"
      },
      "execution_count": 17,
      "outputs": []
    },
    {
      "cell_type": "markdown",
      "source": [
        "Now clean the text"
      ],
      "metadata": {
        "id": "JJtf_Cxo69Kf"
      }
    },
    {
      "cell_type": "code",
      "source": [
        "corp<-tm_map(corp,content_transformer(tolower))\n",
        "corp<-tm_map(corp,removePunctuation)\n",
        "corp<-tm_map(corp,removeNumbers)\n",
        "corp<-tm_map(corp,removeWords,stopwords(\"english\"))\n",
        "corp<-tm_map(corp,stripWhitespace)"
      ],
      "metadata": {
        "colab": {
          "base_uri": "https://localhost:8080/"
        },
        "id": "KUZL0EKn64gK",
        "outputId": "3e267b75-a4ac-4a80-a03d-d4773c68f322"
      },
      "execution_count": 18,
      "outputs": [
        {
          "output_type": "stream",
          "name": "stderr",
          "text": [
            "Warning message in tm_map.SimpleCorpus(corp, content_transformer(tolower)):\n",
            "“transformation drops documents”\n",
            "Warning message in tm_map.SimpleCorpus(corp, removePunctuation):\n",
            "“transformation drops documents”\n",
            "Warning message in tm_map.SimpleCorpus(corp, removeNumbers):\n",
            "“transformation drops documents”\n",
            "Warning message in tm_map.SimpleCorpus(corp, removeWords, stopwords(\"english\")):\n",
            "“transformation drops documents”\n",
            "Warning message in tm_map.SimpleCorpus(corp, stripWhitespace):\n",
            "“transformation drops documents”\n"
          ]
        }
      ]
    },
    {
      "cell_type": "markdown",
      "source": [
        "Now Create Term Document Matrix"
      ],
      "metadata": {
        "id": "dM3r5wgi7oW3"
      }
    },
    {
      "cell_type": "code",
      "source": [
        "tdm=TermDocumentMatrix(corp)\n",
        "tdm_matrix=as.matrix(tdm)\n",
        "tdm_matrix"
      ],
      "metadata": {
        "colab": {
          "base_uri": "https://localhost:8080/",
          "height": 411
        },
        "id": "Tc-0b0eE7hl-",
        "outputId": "31b49167-5fd3-4496-cda9-ab3f679ca94f"
      },
      "execution_count": 19,
      "outputs": [
        {
          "output_type": "display_data",
          "data": {
            "text/html": [
              "<table class=\"dataframe\">\n",
              "<caption>A matrix: 11 × 5 of type dbl</caption>\n",
              "<thead>\n",
              "\t<tr><th></th><th scope=col>1</th><th scope=col>2</th><th scope=col>3</th><th scope=col>4</th><th scope=col>5</th></tr>\n",
              "</thead>\n",
              "<tbody>\n",
              "\t<tr><th scope=row>analysis</th><td>1</td><td>0</td><td>0</td><td>0</td><td>0</td></tr>\n",
              "\t<tr><th scope=row>data</th><td>1</td><td>0</td><td>1</td><td>0</td><td>0</td></tr>\n",
              "\t<tr><th scope=row>fun</th><td>1</td><td>1</td><td>1</td><td>0</td><td>0</td></tr>\n",
              "\t<tr><th scope=row>practical</th><td>0</td><td>1</td><td>0</td><td>0</td><td>0</td></tr>\n",
              "\t<tr><th scope=row>tomorrow</th><td>0</td><td>1</td><td>0</td><td>0</td><td>0</td></tr>\n",
              "\t<tr><th scope=row>will</th><td>0</td><td>1</td><td>0</td><td>1</td><td>0</td></tr>\n",
              "\t<tr><th scope=row>exploring</th><td>0</td><td>0</td><td>1</td><td>0</td><td>0</td></tr>\n",
              "\t<tr><th scope=row>imagine</th><td>0</td><td>0</td><td>0</td><td>1</td><td>0</td></tr>\n",
              "\t<tr><th scope=row>incredible</th><td>0</td><td>0</td><td>0</td><td>1</td><td>0</td></tr>\n",
              "\t<tr><th scope=row>start</th><td>0</td><td>0</td><td>0</td><td>0</td><td>1</td></tr>\n",
              "\t<tr><th scope=row>working</th><td>0</td><td>0</td><td>0</td><td>0</td><td>1</td></tr>\n",
              "</tbody>\n",
              "</table>\n"
            ],
            "text/markdown": "\nA matrix: 11 × 5 of type dbl\n\n| <!--/--> | 1 | 2 | 3 | 4 | 5 |\n|---|---|---|---|---|---|\n| analysis | 1 | 0 | 0 | 0 | 0 |\n| data | 1 | 0 | 1 | 0 | 0 |\n| fun | 1 | 1 | 1 | 0 | 0 |\n| practical | 0 | 1 | 0 | 0 | 0 |\n| tomorrow | 0 | 1 | 0 | 0 | 0 |\n| will | 0 | 1 | 0 | 1 | 0 |\n| exploring | 0 | 0 | 1 | 0 | 0 |\n| imagine | 0 | 0 | 0 | 1 | 0 |\n| incredible | 0 | 0 | 0 | 1 | 0 |\n| start | 0 | 0 | 0 | 0 | 1 |\n| working | 0 | 0 | 0 | 0 | 1 |\n\n",
            "text/latex": "A matrix: 11 × 5 of type dbl\n\\begin{tabular}{r|lllll}\n  & 1 & 2 & 3 & 4 & 5\\\\\n\\hline\n\tanalysis & 1 & 0 & 0 & 0 & 0\\\\\n\tdata & 1 & 0 & 1 & 0 & 0\\\\\n\tfun & 1 & 1 & 1 & 0 & 0\\\\\n\tpractical & 0 & 1 & 0 & 0 & 0\\\\\n\ttomorrow & 0 & 1 & 0 & 0 & 0\\\\\n\twill & 0 & 1 & 0 & 1 & 0\\\\\n\texploring & 0 & 0 & 1 & 0 & 0\\\\\n\timagine & 0 & 0 & 0 & 1 & 0\\\\\n\tincredible & 0 & 0 & 0 & 1 & 0\\\\\n\tstart & 0 & 0 & 0 & 0 & 1\\\\\n\tworking & 0 & 0 & 0 & 0 & 1\\\\\n\\end{tabular}\n",
            "text/plain": [
              "            Docs\n",
              "Terms        1 2 3 4 5\n",
              "  analysis   1 0 0 0 0\n",
              "  data       1 0 1 0 0\n",
              "  fun        1 1 1 0 0\n",
              "  practical  0 1 0 0 0\n",
              "  tomorrow   0 1 0 0 0\n",
              "  will       0 1 0 1 0\n",
              "  exploring  0 0 1 0 0\n",
              "  imagine    0 0 0 1 0\n",
              "  incredible 0 0 0 1 0\n",
              "  start      0 0 0 0 1\n",
              "  working    0 0 0 0 1"
            ]
          },
          "metadata": {}
        }
      ]
    },
    {
      "cell_type": "code",
      "source": [
        "word_freq<-sort(rowSums(tdm_matrix),decreasing = TRUE)\n",
        "word_freq"
      ],
      "metadata": {
        "colab": {
          "base_uri": "https://localhost:8080/",
          "height": 34
        },
        "id": "uscTpc2lAs82",
        "outputId": "2c9865d6-5b45-4b54-ee91-3166ab5cc4e4"
      },
      "execution_count": 25,
      "outputs": [
        {
          "output_type": "display_data",
          "data": {
            "text/html": [
              "<style>\n",
              ".dl-inline {width: auto; margin:0; padding: 0}\n",
              ".dl-inline>dt, .dl-inline>dd {float: none; width: auto; display: inline-block}\n",
              ".dl-inline>dt::after {content: \":\\0020\"; padding-right: .5ex}\n",
              ".dl-inline>dt:not(:first-of-type) {padding-left: .5ex}\n",
              "</style><dl class=dl-inline><dt>fun</dt><dd>3</dd><dt>data</dt><dd>2</dd><dt>will</dt><dd>2</dd><dt>analysis</dt><dd>1</dd><dt>practical</dt><dd>1</dd><dt>tomorrow</dt><dd>1</dd><dt>exploring</dt><dd>1</dd><dt>imagine</dt><dd>1</dd><dt>incredible</dt><dd>1</dd><dt>start</dt><dd>1</dd><dt>working</dt><dd>1</dd></dl>\n"
            ],
            "text/markdown": "fun\n:   3data\n:   2will\n:   2analysis\n:   1practical\n:   1tomorrow\n:   1exploring\n:   1imagine\n:   1incredible\n:   1start\n:   1working\n:   1\n\n",
            "text/latex": "\\begin{description*}\n\\item[fun] 3\n\\item[data] 2\n\\item[will] 2\n\\item[analysis] 1\n\\item[practical] 1\n\\item[tomorrow] 1\n\\item[exploring] 1\n\\item[imagine] 1\n\\item[incredible] 1\n\\item[start] 1\n\\item[working] 1\n\\end{description*}\n",
            "text/plain": [
              "       fun       data       will   analysis  practical   tomorrow  exploring \n",
              "         3          2          2          1          1          1          1 \n",
              "   imagine incredible      start    working \n",
              "         1          1          1          1 "
            ]
          },
          "metadata": {}
        }
      ]
    },
    {
      "cell_type": "code",
      "source": [
        "wordcloud(names(word_freq),freq=word_freq,min.freq = 1)"
      ],
      "metadata": {
        "colab": {
          "base_uri": "https://localhost:8080/",
          "height": 437
        },
        "id": "drW81k2tA56W",
        "outputId": "67902011-ef24-411d-d8f2-6e311857f3f7"
      },
      "execution_count": 21,
      "outputs": [
        {
          "output_type": "display_data",
          "data": {
            "text/plain": [
              "plot without title"
            ],
            "image/png": "[encoded data removed]"
          },
          "metadata": {
            "image/png": {
              "width": 420,
              "height": 420
            }
          }
        }
      ]
    },
    {
      "cell_type": "code",
      "source": [
        "top_5_words<-head(word_freq,5)\n",
        "top_5_words"
      ],
      "metadata": {
        "colab": {
          "base_uri": "https://localhost:8080/",
          "height": 34
        },
        "id": "4mRcFUBPBAtZ",
        "outputId": "87e5f782-6f6a-4478-e049-34518e1877a5"
      },
      "execution_count": 26,
      "outputs": [
        {
          "output_type": "display_data",
          "data": {
            "text/html": [
              "<style>\n",
              ".dl-inline {width: auto; margin:0; padding: 0}\n",
              ".dl-inline>dt, .dl-inline>dd {float: none; width: auto; display: inline-block}\n",
              ".dl-inline>dt::after {content: \":\\0020\"; padding-right: .5ex}\n",
              ".dl-inline>dt:not(:first-of-type) {padding-left: .5ex}\n",
              "</style><dl class=dl-inline><dt>fun</dt><dd>3</dd><dt>data</dt><dd>2</dd><dt>will</dt><dd>2</dd><dt>analysis</dt><dd>1</dd><dt>practical</dt><dd>1</dd></dl>\n"
            ],
            "text/markdown": "fun\n:   3data\n:   2will\n:   2analysis\n:   1practical\n:   1\n\n",
            "text/latex": "\\begin{description*}\n\\item[fun] 3\n\\item[data] 2\n\\item[will] 2\n\\item[analysis] 1\n\\item[practical] 1\n\\end{description*}\n",
            "text/plain": [
              "      fun      data      will  analysis practical \n",
              "        3         2         2         1         1 "
            ]
          },
          "metadata": {}
        }
      ]
    },
    {
      "cell_type": "code",
      "source": [
        "top5_df<-data.frame(Word=names(top_5_words),Frequency=top_5_words)"
      ],
      "metadata": {
        "id": "8wb6W06gBGsz"
      },
      "execution_count": 23,
      "outputs": []
    },
    {
      "cell_type": "code",
      "source": [
        "ggplot(top5_df,aes(x=Word,y=Frequency,fill=Word))+geom_bar(stat=\"identity\")+labs(tilte=\"top 5 frequent words\",x=\"words\",y=\"frequency\")+theme_minimal()+scale_fill_manual(values=c(\"skyblue\",\"orange\",\"red\",\"green\",\"purple\"))"
      ],
      "metadata": {
        "colab": {
          "base_uri": "https://localhost:8080/",
          "height": 437
        },
        "id": "DZ1Xd1XWBVGU",
        "outputId": "23bffee5-5ac9-4946-b045-8ecee41ad252"
      },
      "execution_count": 27,
      "outputs": [
        {
          "output_type": "display_data",
          "data": {
            "text/plain": [
              "plot without title"
            ],
            "image/png": "[encoded data removed]"
          },
          "metadata": {
            "image/png": {
              "width": 420,
              "height": 420
            }
          }
        }
      ]
    },
    {
      "cell_type": "code",
      "source": [],
      "metadata": {
        "id": "ESNZYBOOBx5V"
      },
      "execution_count": null,
      "outputs": []
    }
  ]
}